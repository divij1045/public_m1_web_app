# Import Dependencies
import numpy as np
import pandas as pd
import pickle  # For saving and loading the model
from sklearn.model_selection import train_test_split
from sklearn.linear_model import LogisticRegression
from sklearn.metrics import accuracy_score
from google.colab import files
# Upload dataset manually
uploaded = files.upload()
# Load dataset (replace 'Cleaned-Data.csv' with your filename)
df = pd.read_csv("Cleaned-Data.csv")
# Display first 5 rows
print(df.head())
# Display dataset shape
print("\nDataset Shape:", df.shape)
# Display dataset info
print("\nDataset Info:")
print(df.info())
# Check for missing values
print("\nMissing Values:\n", df.isnull().sum())
# Checking the distribution of severity levels
print("\nSeverity Distribution:\n", df[['Severity_Mild', 'Severity_Moderate', 'Severity_Severe', 'Severity_None']].sum())
# Define Target Column (Has Disease or Not)
df["Has_Disease"] = (df["Severity_Mild"] == 1) | (df["Severity_Moderate"] == 1) | (df["Severity_Severe"] == 1)
df["Has_Disease"] = df["Has_Disease"].astype(int)
# Drop unnecessary columns
df = df.drop(columns=["Severity_Mild", "Severity_Moderate", "Severity_None", "Severity_Severe", "Country"])
# Splitting Features (X) and Target (Y)
X = df.drop(columns="Has_Disease", axis=1)
Y = df["Has_Disease"]

print("\nFeature Data (X):\n", X.head())
print("\nTarget Data (Y):\n", Y.head())
# Splitting Features (X) and Target (Y)
X = df.drop(columns="Has_Disease", axis=1)
Y = df["Has_Disease"]

print("\nFeature Data (X):\n", X.head())
print("\nTarget Data (Y):\n", Y.head())
# Model Training: Logistic Regression
model = LogisticRegression(max_iter=1000)
model.fit(X_train, Y_train)
# Model Evaluation
X_train_prediction = model.predict(X_train)
training_data_accuracy = accuracy_score(X_train_prediction, Y_train)

X_test_prediction = model.predict(X_test)
test_data_accuracy = accuracy_score(X_test_prediction, Y_test)

print("\nAccuracy on Training Data:", training_data_accuracy)
print("Accuracy on Test Data:", test_data_accuracy)
# ✅ Saving the trained model using pickle
model_filename = "disease_prediction_model.sav"
with open(model_filename, "wb") as model_file:
    pickle.dump(model, model_file)
print(f"\nModel saved successfully as {model_filename}")
# ✅ Loading the saved model
with open(model_filename, "rb") as model_file:
    loaded_model = pickle.load(model_file)
print("\nLoaded model successfully!")
# Building a Predictive System
def predict_disease(symptoms):
    input_data_as_numpy_array = np.asarray(symptoms).reshape(1, -1)
    prediction = loaded_model.predict(input_data_as_numpy_array)

    if prediction[0] == 0:
        return "The Person does NOT have the Disease"
    else:
        return "The Person HAS the Disease"

sample_symptoms = [
    1,  # Fever
    0,  # Tiredness
    1,  # Dry-Cough
    0,  # Difficulty-in-Breathing
    1,  # Sore-Throat
    0,  # None_Symptom
    0,  # Pains
    0,  # Nasal-Congestion
    0,  # Runny-Nose
    0,  # Diarrhea
    0,  # None_Experiencing
    0,  # Age_0-9
    0,  # Age_10-19
    0,  # Age_20-24
    1,  # Age_25-59
    0,  # Age_60+
    0,  # Gender_Female
    1,  # Gender_Male
    0,  # Gender_Transgender
    0,  # Contact_Dont-Know
    0,  # Contact_No
    1   # Contact_Yes
]

print("\nPrediction Example:", predict_disease(sample_symptoms))
